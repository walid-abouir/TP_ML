{
 "cells": [
  {
   "cell_type": "markdown",
   "metadata": {},
   "source": [
    "<center>\n",
    "<a href=\"http://www.insa-toulouse.fr/\" ><img src=\"http://www.math.univ-toulouse.fr/~besse/Wikistat/Images/logo-insa.jpg\" style=\"float:left; max-width: 120px; display: inline\" alt=\"INSA\"/></a> \n",
    "\n",
    "<a href=\"http://wikistat.fr/\" ><img src=\"http://www.math.univ-toulouse.fr/~besse/Wikistat/Images/wikistat.jpg\" style=\"float:right; max-width: 250px; display: inline\"  alt=\"Wikistat\"/></a>\n",
    "\n",
    "</center>"
   ]
  },
  {
   "cell_type": "markdown",
   "metadata": {},
   "source": [
    "# [Scénarios d'Apprentissage Statistique](https://github.com/wikistat/Apprentissage)"
   ]
  },
  {
   "cell_type": "markdown",
   "metadata": {},
   "source": [
    "#  Exemple \"Jouet\": Discrimination de [`blobs`](http://scikit-learn.org/stable/modules/generated/sklearn.datasets.make_blobs.html) de <a href=\"http://scikit-learn.org/stable/#\"><img src=\"http://scikit-learn.org/stable/_static/scikit-learn-logo-small.png\" style=\"max-width: 100px; display: inline\" alt=\"R\"/></a>"
   ]
  },
  {
   "cell_type": "markdown",
   "metadata": {},
   "source": [
    "**Résumé**: Les méthodes de [discrimination](http://wikistat.fr/pdf/st-m-app-intro.pdf) sont  comparées sur un jeu de données fictif obtenu par la commande `make_blobs` de Scikit-learn. L'objectif est de mettre en évidence le rôle des paramètres de complexité de différentes méthodes (régression logistique, k-nn, réseaux de neurones, arbre de décision, bagging, svm) et de comparer les formes spécifiques des frontières estimées par chacune d'elle. Cela permet d'illustrer les principales méthodes d'apprentissage de [*Scikit-learn*](http://scikit-learn.org/stable/)"
   ]
  },
  {
   "cell_type": "markdown",
   "metadata": {},
   "source": [
    "## 1 Introduction\n",
    "Les données se présentent sous la forme de nuages de points dans R2 plus présentant des groupes plu sou moins distincts ou mélangés. L'objectif est d'apprendre ces données très particulières afin de discriminer les deux classes. Les données étant simplement dans R2, il est facile de prévoir la classe de chaque point du plan et ainsi de visualiser la frontière entre les prévisions des deux classes. L'intérêt est de représenter ainsi facilement le rôle jouer par les paramètres de complexité de chaque méthode et de comparer les formes des frontières obtenues et donc la plus ou moins bonne adéquation d'une méthode à la spécificité de ces données simulées. "
   ]
  },
  {
   "cell_type": "code",
   "execution_count": null,
   "metadata": {
    "ExecuteTime": {
     "end_time": "2019-10-14T08:32:08.934217Z",
     "start_time": "2019-10-14T08:32:08.569274Z"
    }
   },
   "outputs": [],
   "source": [
    "%matplotlib inline\n",
    "from matplotlib import pyplot as plt\n",
    "# option d'impression\n",
    "import numpy as np\n",
    "np.set_printoptions(precision=3)"
   ]
  },
  {
   "cell_type": "markdown",
   "metadata": {},
   "source": [
    "## 2 Génération des données\n",
    "Génération aléatoire de 20 groupes de nuages de 1000 points dans R2. Le générateur de nombres aléatoires est initialisés par souci de reproductibilité. Les points sont séparés en deux classes. "
   ]
  },
  {
   "cell_type": "code",
   "execution_count": null,
   "metadata": {
    "ExecuteTime": {
     "end_time": "2019-10-14T08:32:13.038550Z",
     "start_time": "2019-10-14T08:32:12.477378Z"
    }
   },
   "outputs": [],
   "source": [
    "from sklearn.datasets import make_blobs\n",
    "\n",
    "X, y = make_blobs(n_samples=1000, centers=20, random_state=123)\n",
    "labels = [\"b\", \"r\"]\n",
    "y = np.take(labels, (y < 10))\n",
    "print(X)\n",
    "print(y[:5])"
   ]
  },
  {
   "cell_type": "markdown",
   "metadata": {},
   "source": [
    "Représentation des données dans le plan."
   ]
  },
  {
   "cell_type": "code",
   "execution_count": null,
   "metadata": {
    "ExecuteTime": {
     "end_time": "2019-10-14T08:32:16.500892Z",
     "start_time": "2019-10-14T08:32:16.278645Z"
    }
   },
   "outputs": [],
   "source": [
    "plt.figure()\n",
    "plt.scatter(X[:, 0], X[:, 1], c=y)\n",
    "plt.xlim(-10, 10)\n",
    "plt.ylim(-10, 10)\n",
    "plt.show()"
   ]
  },
  {
   "cell_type": "markdown",
   "metadata": {},
   "source": [
    "## 3 Les *classifieurs* de Scikit-learn\n",
    "\n",
    "Tous les algorithmes et méthodes de Scikit-learn se présentent sous la forme d'une combinaison de 3 \"interfaces\":\n",
    "* estimation pour ajuster des modèles,\n",
    "* prévision pour de nouvelles observations,\n",
    "* transformation pour convertir des données.\n",
    "\n",
    "Celles-ci peuvent être facilement combinées et enchaînées en un *pipeline*.\n",
    "\n",
    "### 3.1 [*k* plus proches voisins](http://wikistat.fr/pdf/st-m-app-add.pdf)\n",
    "#### Estimation"
   ]
  },
  {
   "cell_type": "code",
   "execution_count": null,
   "metadata": {
    "ExecuteTime": {
     "end_time": "2019-10-14T08:32:35.791622Z",
     "start_time": "2019-10-14T08:32:35.672437Z"
    }
   },
   "outputs": [],
   "source": [
    "# Importation de la fonction\n",
    "from sklearn.neighbors import KNeighborsClassifier  \n",
    "# Détermination des paramètres et définition de l'estimateur\n",
    "knnF = KNeighborsClassifier(n_neighbors=5)\n",
    "\n",
    "# Apprentissage ou estimation du modèle sur l'échantillon d'apprentissage \n",
    "# mais il ne se passe rien  dans le cas de *k*-nn avant en dehors de la phase de prévision. \n",
    "knnF.fit(X, y)\n",
    "# Les options de cet algorithmes:"
   ]
  },
  {
   "cell_type": "markdown",
   "metadata": {},
   "source": [
    "#### Prévision\n",
    "Prévision de la classe des 5 premiers points"
   ]
  },
  {
   "cell_type": "code",
   "execution_count": null,
   "metadata": {
    "ExecuteTime": {
     "end_time": "2019-10-14T08:32:43.723317Z",
     "start_time": "2019-10-14T08:32:43.710150Z"
    }
   },
   "outputs": [],
   "source": [
    "print(knnF.predict(X[:5])) "
   ]
  },
  {
   "cell_type": "markdown",
   "metadata": {},
   "source": [
    "Ou de la probabilité des classes."
   ]
  },
  {
   "cell_type": "code",
   "execution_count": null,
   "metadata": {
    "ExecuteTime": {
     "end_time": "2019-10-14T08:32:47.258956Z",
     "start_time": "2019-10-14T08:32:47.253897Z"
    }
   },
   "outputs": [],
   "source": [
    "print(knnF.predict_proba(X[:5]))"
   ]
  },
  {
   "cell_type": "markdown",
   "metadata": {},
   "source": [
    "La fonction définie ci-dessous prévoit chaque point d'une grille du plan et trace un graphe de contour des probabilités."
   ]
  },
  {
   "cell_type": "code",
   "execution_count": null,
   "metadata": {
    "ExecuteTime": {
     "end_time": "2019-10-14T08:32:49.691706Z",
     "start_time": "2019-10-14T08:32:49.677276Z"
    }
   },
   "outputs": [],
   "source": [
    "def plot_surface(clf, X, y, xlim=(-10, 10), ylim=(-10, 10), n_steps=250):\n",
    "    fig = plt.figure()\n",
    "    xx, yy = np.meshgrid(np.linspace(xlim[0], xlim[1], n_steps), np.linspace(ylim[0], ylim[1], n_steps))\n",
    "    if hasattr(clf, \"decision_function\"):\n",
    "        z = clf.decision_function(np.c_[xx.ravel(), yy.ravel()])\n",
    "    else:\n",
    "        z = clf.predict_proba(np.c_[xx.ravel(), yy.ravel()])[:, 1]      \n",
    "    z = z.reshape(xx.shape)\n",
    "    plt.contourf(xx, yy, z, alpha=0.8, cmap=plt.cm.RdBu_r)\n",
    "    plt.scatter(X[:, 0], X[:, 1], c=y)\n",
    "    plt.xlim(*xlim)\n",
    "    plt.ylim(*ylim)\n",
    "    plt.show()"
   ]
  },
  {
   "cell_type": "code",
   "execution_count": null,
   "metadata": {
    "ExecuteTime": {
     "end_time": "2019-10-14T08:32:53.853400Z",
     "start_time": "2019-10-14T08:32:52.569689Z"
    }
   },
   "outputs": [],
   "source": [
    "knnF = KNeighborsClassifier(n_neighbors=70)\n",
    "knnF.fit(X, y)\n",
    "plot_surface(knnF, X, y)"
   ]
  },
  {
   "cell_type": "markdown",
   "metadata": {},
   "source": [
    "Ce qui donne une bonne idée de  la forme des frontières estimées entre les classes.\n",
    "\n",
    "Faire varier le paramère `n_neighbors` (1 à 500) et observer l'impact sur la forme des classes."
   ]
  },
  {
   "cell_type": "markdown",
   "metadata": {},
   "source": [
    "### 3.2 [Arbre binaire de décision](http://wikistat.fr/pdf/st-m-app-cart.pdf)\n",
    "\n",
    "Les frontières sont construites à partir de parallèles aux axes. Faire varier la profondeur maximale `max_depth` de l'arbre."
   ]
  },
  {
   "cell_type": "code",
   "execution_count": null,
   "metadata": {
    "ExecuteTime": {
     "end_time": "2019-10-14T08:33:33.362918Z",
     "start_time": "2019-10-14T08:33:33.111979Z"
    }
   },
   "outputs": [],
   "source": [
    "from sklearn.tree import DecisionTreeClassifier \n",
    "treeF = DecisionTreeClassifier(max_depth=10)\n",
    "treeF.fit(X, y)\n",
    "plot_surface(treeF, X, y)"
   ]
  },
  {
   "cell_type": "markdown",
   "metadata": {},
   "source": [
    "### 3.3 [Forêts aléatoires](http://wikistat.fr/pdf/st-m-app-agreg.pdf) \n",
    "Obtenues par agrégation d'arbres, une forêt arrondit les frontières. Avec seulement 2 variables (dans R2), cela revient à faire du *bagging*. Faire variaer le nombre d'arbres: `n_estimators` (1 à 20), de la forêt. "
   ]
  },
  {
   "cell_type": "code",
   "execution_count": null,
   "metadata": {},
   "outputs": [],
   "source": [
    "from sklearn.ensemble import RandomForestClassifier \n",
    "rfF = RandomForestClassifier(n_estimators=200)\n",
    "rfF.fit(X, y)\n",
    "plot_surface(rfF, X, y)"
   ]
  },
  {
   "cell_type": "markdown",
   "metadata": {},
   "source": [
    "### 3.4 Séparateur à Vaste Marge ([SVM](http://wikistat.fr/pdf/st-m-app-svm.pdf))\n",
    "SVM linéaire, pas très intéressant sur ces données, puis gaussien. Faire varier la pénalisation `C` et l'étendue du noyau gaussien."
   ]
  },
  {
   "cell_type": "code",
   "execution_count": null,
   "metadata": {},
   "outputs": [],
   "source": [
    "# Noyau linéaire\n",
    "from sklearn.svm import SVC\n",
    "svmF = SVC(kernel=\"linear\",C=1)  # try kernel=\"rbf\" instead\n",
    "svmF.fit(X, y)\n",
    "plot_surface(svmF, X, y)"
   ]
  },
  {
   "cell_type": "markdown",
   "metadata": {},
   "source": [
    "Faire varier C de 10-5 à 10^5, gamma de 0.001 à 100"
   ]
  },
  {
   "cell_type": "code",
   "execution_count": null,
   "metadata": {},
   "outputs": [],
   "source": [
    "# Noyau gaussien avec valeurs par défaut de C et gamma\n",
    "from sklearn.svm import SVC\n",
    "svmF = SVC(kernel=\"rbf\", C=1, gamma='auto')  \n",
    "svmF.fit(X, y)\n",
    "plot_surface(svmF, X, y)"
   ]
  },
  {
   "cell_type": "markdown",
   "metadata": {},
   "source": [
    "### 3.5 [Perceptron multicouches](http://wikistat.fr/pdf/st-m-app-rn.pdf)\n",
    "Faire varier le nombre de couches cachées, le nombe de neurones sur ces couches, la pénalisation *l2* `alpha`. "
   ]
  },
  {
   "cell_type": "code",
   "execution_count": null,
   "metadata": {},
   "outputs": [],
   "source": [
    "# Trois couches de 100 neurones avec alpha par défaut\n",
    "from sklearn.neural_network import MLPClassifier\n",
    "nnetF = MLPClassifier(hidden_layer_sizes=(100, 100, 100),alpha=0.0001)\n",
    "nnetF.fit(X, y)\n",
    "plot_surface(nnetF, X, y)"
   ]
  },
  {
   "cell_type": "markdown",
   "metadata": {},
   "source": [
    "### 3.6 Processus gaussien\n",
    "Consulter la [doc](http://scikit-learn.org/stable/modules/generated/sklearn.gaussian_process.GaussianProcessClassifier.html) en ligne. "
   ]
  },
  {
   "cell_type": "code",
   "execution_count": null,
   "metadata": {},
   "outputs": [],
   "source": [
    "from sklearn.gaussian_process import GaussianProcessClassifier\n",
    "pgF = GaussianProcessClassifier()\n",
    "pgF.fit(X, y)\n",
    "plot_surface(pgF, X, y)         "
   ]
  },
  {
   "cell_type": "markdown",
   "metadata": {},
   "source": [
    "#### Conclusion: \n",
    "**Q** Quelles sont les méthodes ou modèles les plus adaptés à ces données? Est-ce généralisable à d'autres?"
   ]
  }
 ],
 "metadata": {
  "kernelspec": {
   "display_name": "Python 3",
   "language": "python",
   "name": "python3"
  },
  "language_info": {
   "codemirror_mode": {
    "name": "ipython",
    "version": 3
   },
   "file_extension": ".py",
   "mimetype": "text/x-python",
   "name": "python",
   "nbconvert_exporter": "python",
   "pygments_lexer": "ipython3",
   "version": "3.7.5"
  },
  "latex_envs": {
   "LaTeX_envs_menu_present": true,
   "autoclose": false,
   "autocomplete": true,
   "bibliofile": "biblio.bib",
   "cite_by": "apalike",
   "current_citInitial": 1,
   "eqLabelWithNumbers": true,
   "eqNumInitial": 1,
   "hotkeys": {
    "equation": "Ctrl-E",
    "itemize": "Ctrl-I"
   },
   "labels_anchors": false,
   "latex_user_defs": false,
   "report_style_numbering": false,
   "user_envs_cfg": false
  },
  "toc": {
   "base_numbering": 1,
   "nav_menu": {},
   "number_sections": true,
   "sideBar": true,
   "skip_h1_title": false,
   "title_cell": "Table of Contents",
   "title_sidebar": "Contents",
   "toc_cell": false,
   "toc_position": {},
   "toc_section_display": true,
   "toc_window_display": false
  }
 },
 "nbformat": 4,
 "nbformat_minor": 1
}
